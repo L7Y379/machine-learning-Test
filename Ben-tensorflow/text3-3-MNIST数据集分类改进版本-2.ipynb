{
 "cells": [
  {
   "cell_type": "code",
   "execution_count": 2,
   "metadata": {},
   "outputs": [],
   "source": [
    "import tensorflow as tf\n",
    "from tensorflow.examples.tutorials.mnist import input_data"
   ]
  },
  {
   "cell_type": "code",
   "execution_count": 3,
   "metadata": {},
   "outputs": [
    {
     "name": "stdout",
     "output_type": "stream",
     "text": [
      "WARNING:tensorflow:From <ipython-input-3-9d3bb00d3317>:2: read_data_sets (from tensorflow.contrib.learn.python.learn.datasets.mnist) is deprecated and will be removed in a future version.\n",
      "Instructions for updating:\n",
      "Please use alternatives such as official/mnist/dataset.py from tensorflow/models.\n",
      "WARNING:tensorflow:From D:\\Anaconda\\lib\\site-packages\\tensorflow\\contrib\\learn\\python\\learn\\datasets\\mnist.py:260: maybe_download (from tensorflow.contrib.learn.python.learn.datasets.base) is deprecated and will be removed in a future version.\n",
      "Instructions for updating:\n",
      "Please write your own downloading logic.\n",
      "WARNING:tensorflow:From D:\\Anaconda\\lib\\site-packages\\tensorflow\\contrib\\learn\\python\\learn\\datasets\\mnist.py:262: extract_images (from tensorflow.contrib.learn.python.learn.datasets.mnist) is deprecated and will be removed in a future version.\n",
      "Instructions for updating:\n",
      "Please use tf.data to implement this functionality.\n",
      "Extracting MNIST_data\\train-images-idx3-ubyte.gz\n",
      "WARNING:tensorflow:From D:\\Anaconda\\lib\\site-packages\\tensorflow\\contrib\\learn\\python\\learn\\datasets\\mnist.py:267: extract_labels (from tensorflow.contrib.learn.python.learn.datasets.mnist) is deprecated and will be removed in a future version.\n",
      "Instructions for updating:\n",
      "Please use tf.data to implement this functionality.\n",
      "Extracting MNIST_data\\train-labels-idx1-ubyte.gz\n",
      "WARNING:tensorflow:From D:\\Anaconda\\lib\\site-packages\\tensorflow\\contrib\\learn\\python\\learn\\datasets\\mnist.py:110: dense_to_one_hot (from tensorflow.contrib.learn.python.learn.datasets.mnist) is deprecated and will be removed in a future version.\n",
      "Instructions for updating:\n",
      "Please use tf.one_hot on tensors.\n",
      "Extracting MNIST_data\\t10k-images-idx3-ubyte.gz\n",
      "Extracting MNIST_data\\t10k-labels-idx1-ubyte.gz\n",
      "WARNING:tensorflow:From D:\\Anaconda\\lib\\site-packages\\tensorflow\\contrib\\learn\\python\\learn\\datasets\\mnist.py:290: DataSet.__init__ (from tensorflow.contrib.learn.python.learn.datasets.mnist) is deprecated and will be removed in a future version.\n",
      "Instructions for updating:\n",
      "Please use alternatives such as official/mnist/dataset.py from tensorflow/models.\n",
      "WARNING:tensorflow:From <ipython-input-3-9d3bb00d3317>:32: softmax_cross_entropy_with_logits (from tensorflow.python.ops.nn_ops) is deprecated and will be removed in a future version.\n",
      "Instructions for updating:\n",
      "\n",
      "Future major versions of TensorFlow will allow gradients to flow\n",
      "into the labels input on backprop by default.\n",
      "\n",
      "See @{tf.nn.softmax_cross_entropy_with_logits_v2}.\n",
      "\n",
      "Iter0,Testing Accuracy 0.9514Training Accuracy 0.955\n",
      "Iter1,Testing Accuracy 0.9586Training Accuracy 0.96378183\n",
      "Iter2,Testing Accuracy 0.9645Training Accuracy 0.9724727\n",
      "Iter3,Testing Accuracy 0.9656Training Accuracy 0.9762\n",
      "Iter4,Testing Accuracy 0.9681Training Accuracy 0.97996366\n"
     ]
    }
   ],
   "source": [
    "#载入数据集\n",
    "mnist = input_data.read_data_sets(\"MNIST_data\",one_hot=True)\n",
    " \n",
    "#每个批次的大小\n",
    "batch_size = 20\n",
    "#计算一共有多少个批次\n",
    "n_batch = mnist.train.num_examples // batch_size   #整除\n",
    " \n",
    "#定义两个placeholder\n",
    "x = tf.placeholder(tf.float32,[None,784])\n",
    "y = tf.placeholder(tf.float32,[None,10])\n",
    "keep_prob=tf.placeholder(tf.float32)\n",
    "lr=tf.Variable(0.001, dtype=tf.float32)   #定义学习率变量\n",
    " \n",
    "#创建一个简单的神经网络\n",
    "W1=tf.Variable(tf.truncated_normal([784,200],stddev=0.1))   #这里我们使用一个截断的正太分布初始化W\n",
    "b1=tf.Variable(tf.zeros([1,200]))\n",
    "L1=tf.nn.tanh(tf.matmul(x,W1)+b1)   #激活函数为双曲正切函数\n",
    "L1_drop=tf.nn.dropout(L1,keep_prob)\n",
    " \n",
    "W2=tf.Variable(tf.truncated_normal([200,100],stddev=0.1))\n",
    "b2=tf.Variable(tf.zeros([1,100]))\n",
    "L2=tf.nn.tanh(tf.matmul(L1_drop, W2)+b2)\n",
    "L2_drop=tf.nn.dropout(L2,keep_prob)\n",
    " \n",
    "W3=tf.Variable(tf.truncated_normal([100,10], stddev=0.1))\n",
    "b3=tf.Variable(tf.zeros([1,10]))\n",
    "prediction=tf.nn.softmax(tf.matmul(L2_drop,W3)+b3)#soft将输入信号转换为概率\n",
    " \n",
    "#二次代价函数\n",
    "#loss=tf.reduce_mean(tf.square(y-prediction))\n",
    "loss=tf.reduce_mean(tf.nn.softmax_cross_entropy_with_logits(labels=y, logits=prediction))\n",
    "\n",
    "#使用梯度下降法\n",
    "train_step=tf.train.AdamOptimizer(lr).minimize(loss) \n",
    " \n",
    "#初始化变量\n",
    "init = tf.global_variables_initializer()\n",
    " \n",
    "#结果存放在一个布尔型列表中\n",
    "correct_prediction = tf.equal(tf.argmax(y,1),tf.argmax(prediction,1))#argmax返回一维张量中最大的值所在的位置\n",
    "#求准确率\n",
    "accuracy = tf.reduce_mean(tf.cast(correct_prediction,tf.float32))#cast将布尔值转化为浮点型0,1\n",
    " \n",
    " \n",
    "with tf.Session() as sess:\n",
    "    sess.run(init)\n",
    "    for epoch in range(5):\n",
    "        #每迭代一次改变学习率为0.001乘以0.95的epoch次方\n",
    "        sess.run(tf.assign(lr, 0.001*(0.95**epoch)))#先给一个高学习率，到接近局部或全局最小值时学习率降低\n",
    "        for batch in range(n_batch):\n",
    "            batch_xs,batch_ys =  mnist.train.next_batch(batch_size)\n",
    "            sess.run(train_step,feed_dict={x:batch_xs, y:batch_ys,keep_prob:1}) #keep_prob参数值控制dropout比例\n",
    "        \n",
    "        test_acc=sess.run(accuracy,feed_dict={x:mnist.test.images, y:mnist.test.labels,keep_prob:1.0})\n",
    "        train_acc=sess.run(accuracy,feed_dict={x:mnist.train.images, y:mnist.train.labels,keep_prob:1.0})\n",
    "        print(\"Iter\"+str(epoch)+\",Testing Accuracy \"+str(test_acc)+\"Training Accuracy \"+str(train_acc))"
   ]
  },
  {
   "cell_type": "code",
   "execution_count": null,
   "metadata": {},
   "outputs": [],
   "source": []
  }
 ],
 "metadata": {
  "kernelspec": {
   "display_name": "Python 3",
   "language": "python",
   "name": "python3"
  },
  "language_info": {
   "codemirror_mode": {
    "name": "ipython",
    "version": 3
   },
   "file_extension": ".py",
   "mimetype": "text/x-python",
   "name": "python",
   "nbconvert_exporter": "python",
   "pygments_lexer": "ipython3",
   "version": "3.6.12"
  }
 },
 "nbformat": 4,
 "nbformat_minor": 2
}
